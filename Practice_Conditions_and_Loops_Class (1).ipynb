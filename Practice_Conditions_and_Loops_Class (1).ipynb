{
 "cells": [
  {
   "cell_type": "markdown",
   "metadata": {},
   "source": [
    "# Conditionals\n",
    "\n",
    "Check if the x is perfect square.  If it is, print \"x is a perfect square\".  If not print \"x is not a perfect square\"."
   ]
  },
  {
   "cell_type": "code",
   "execution_count": 1,
   "metadata": {},
   "outputs": [
    {
     "name": "stdout",
     "output_type": "stream",
     "text": [
      "21\n",
      "21 is not a perfect square.\n"
     ]
    }
   ],
   "source": [
    "#Write your code here\n",
    "import math\n",
    "def check_perfect_sqr(x):\n",
    "    num = math.sqrt(x)\n",
    "    if( (num - math.floor(num) ) == 0):\n",
    "        print('%s is a perfect square.'%(x) )\n",
    "    else:\n",
    "        print('%s is not a perfect square.'%(x) )\n",
    "        \n",
    "x=int(input())\n",
    "check_perfect_sqr(x)"
   ]
  },
  {
   "cell_type": "markdown",
   "metadata": {},
   "source": [
    "Create a list L of arbitrary length. Get the median.\n"
   ]
  },
  {
   "cell_type": "code",
   "execution_count": 2,
   "metadata": {},
   "outputs": [
    {
     "data": {
      "text/plain": [
       "4.0"
      ]
     },
     "execution_count": 2,
     "metadata": {},
     "output_type": "execute_result"
    }
   ],
   "source": [
    "#Write your code here\n",
    "import statistics\n",
    "data = [1,6,3,7,2,5,8,2]\n",
    "statistics.median(data)"
   ]
  },
  {
   "cell_type": "markdown",
   "metadata": {},
   "source": [
    "If there are fewer than 10 students in the class, then the top three students get an  A and the rest get a B.  Otherwise, the grade breakdown is as follows:\n",
    "\n",
    "- A: 90-100\n",
    "- B: 80-89\n",
    "- C: 70 - 79\n",
    "- D: 65 - 69\n",
    "- Failing: Below 65\n",
    "\n",
    "Given the list of grades in grades_list, print the grade received by the last student in this list. So if we have\n",
    "\n",
    "    grade_list = [50, 90, 91, 88, 75]\n",
    "\n",
    "we want to print the grade received by the student who received a 75. In this case it would be a B.\n",
    "\n"
   ]
  },
  {
   "cell_type": "code",
   "execution_count": 16,
   "metadata": {},
   "outputs": [
    {
     "name": "stdout",
     "output_type": "stream",
     "text": [
      "Grade of student score 75 is B\n"
     ]
    }
   ],
   "source": [
    "#Write your code here\n",
    "num = 75\n",
    "grade_list=[50, 90, 91, 88, 75]\n",
    "grade_list.sort(reverse=True)\n",
    "if(len(grade_list)<10):\n",
    "    if((grade_list.index(num)) >= 3):\n",
    "        print('Grade of student score %s is %s'%(num,'B'))\n",
    "    else:\n",
    "        print('Grade of student score %s is %s'%(num,'A'))\n",
    "    "
   ]
  },
  {
   "cell_type": "markdown",
   "metadata": {},
   "source": [
    "# For Loops\n",
    "\n",
    "Count the number of n's in your name (lower and uppercase count)"
   ]
  },
  {
   "cell_type": "code",
   "execution_count": 15,
   "metadata": {},
   "outputs": [
    {
     "name": "stdout",
     "output_type": "stream",
     "text": [
      "1\n"
     ]
    }
   ],
   "source": [
    "#Write your code here\n",
    "name = 'Suyash Pratap Singh'\n",
    "count=0\n",
    "for i in name:\n",
    "    if(i == 'n' or i == 'N'):\n",
    "        \n",
    "        count+=1\n",
    "print(count)"
   ]
  },
  {
   "cell_type": "markdown",
   "metadata": {},
   "source": [
    "Get all of the factors of a number and store them in a list"
   ]
  },
  {
   "cell_type": "code",
   "execution_count": 14,
   "metadata": {},
   "outputs": [
    {
     "name": "stdout",
     "output_type": "stream",
     "text": [
      "23\n"
     ]
    },
    {
     "data": {
      "text/plain": [
       "[1, 23]"
      ]
     },
     "execution_count": 14,
     "metadata": {},
     "output_type": "execute_result"
    }
   ],
   "source": [
    "#Write your code here\n",
    "L=[]\n",
    "def print_factors(x):\n",
    "   for i in range(1, x + 1):\n",
    "       if x % i == 0:\n",
    "           L.append(i)\n",
    "\n",
    "num = int(input())\n",
    "print_factors(num)\n",
    "L"
   ]
  },
  {
   "cell_type": "markdown",
   "metadata": {},
   "source": [
    "Generate the first N numbers of the Fibonacci sequence where \n",
    "\n",
    "$a_0 = 1$\n",
    "\n",
    "$a_1=1$\n",
    "\n",
    "$a_n = a_{n-1} + a_{n-2}$"
   ]
  },
  {
   "cell_type": "code",
   "execution_count": 7,
   "metadata": {},
   "outputs": [
    {
     "name": "stdout",
     "output_type": "stream",
     "text": [
      "6\n",
      "Fibonacci sequence:\n",
      "0\n",
      "1\n",
      "1\n",
      "2\n",
      "3\n",
      "5\n"
     ]
    }
   ],
   "source": [
    "#Write your code here\n",
    "nterms = int(input())\n",
    "n1, n2 = 0, 1\n",
    "count = 0\n",
    "if nterms == 1:\n",
    "   print(\"Fibonacci sequence upto\",nterms,\":\")\n",
    "   print(n1)\n",
    "else:\n",
    "   print(\"Fibonacci sequence:\")\n",
    "   while count < nterms:\n",
    "       print(n1)\n",
    "       nth = n1 + n2\n",
    "       n1 = n2\n",
    "       n2 = nth\n",
    "       count += 1"
   ]
  },
  {
   "cell_type": "markdown",
   "metadata": {},
   "source": [
    "Compute the dot product of lists l1 and l2. **This is an example where iterating over the index is better than over the elements themselves**\n"
   ]
  },
  {
   "cell_type": "code",
   "execution_count": 8,
   "metadata": {},
   "outputs": [
    {
     "data": {
      "text/plain": [
       "128"
      ]
     },
     "execution_count": 8,
     "metadata": {},
     "output_type": "execute_result"
    }
   ],
   "source": [
    "#Write your code here\n",
    "list1=[3,5,2,7,8,4]\n",
    "list2=[3,7,2,4,6,1]\n",
    "sum([list1[i] * list2[i] for i in range(len(list1))])"
   ]
  },
  {
   "cell_type": "markdown",
   "metadata": {},
   "source": [
    "Given two strings, test how many times the first string contains the second.  For example if str1 = \"**co**ding is **co**ol\" and str2 = \"co\" then output should be 2."
   ]
  },
  {
   "cell_type": "code",
   "execution_count": 9,
   "metadata": {},
   "outputs": [
    {
     "name": "stdout",
     "output_type": "stream",
     "text": [
      "2\n"
     ]
    }
   ],
   "source": [
    "def countFreq(pat, txt): \n",
    "    M = len(pat) \n",
    "    N = len(txt) \n",
    "    res = 0\n",
    "    for i in range(N - M + 1): \n",
    "        j = 0\n",
    "        for j in range(M): \n",
    "            if (txt[i + j] != pat[j]): \n",
    "                break\n",
    "        if (j == M - 1): \n",
    "            res += 1\n",
    "            j = 0\n",
    "    return res \n",
    "str1 = \"coding is cool\"\n",
    "str2 = \"co\"\n",
    "print(countFreq(str2, str1))"
   ]
  },
  {
   "cell_type": "markdown",
   "metadata": {},
   "source": [
    "Code up the locker brain teaser below. Print out a list of the open locker numbers. Let N be the number of lockers and students"
   ]
  },
  {
   "cell_type": "code",
   "execution_count": 9,
   "metadata": {},
   "outputs": [],
   "source": [
    "#Write your code here  \n",
    "\n"
   ]
  },
  {
   "cell_type": "code",
   "execution_count": null,
   "metadata": {
    "collapsed": true
   },
   "outputs": [],
   "source": []
  }
 ],
 "metadata": {
  "kernelspec": {
   "display_name": "Python 3",
   "language": "python",
   "name": "python3"
  },
  "language_info": {
   "codemirror_mode": {
    "name": "ipython",
    "version": 3
   },
   "file_extension": ".py",
   "mimetype": "text/x-python",
   "name": "python",
   "nbconvert_exporter": "python",
   "pygments_lexer": "ipython3",
   "version": "3.8.1"
  },
  "toc": {
   "base_numbering": 1,
   "nav_menu": {
    "height": "48px",
    "width": "252px"
   },
   "number_sections": true,
   "sideBar": true,
   "skip_h1_title": false,
   "title_cell": "Table of Contents",
   "title_sidebar": "Contents",
   "toc_cell": false,
   "toc_position": {},
   "toc_section_display": "block",
   "toc_window_display": false
  }
 },
 "nbformat": 4,
 "nbformat_minor": 2
}
