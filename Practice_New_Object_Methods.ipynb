{
 "cells": [
  {
   "cell_type": "markdown",
   "metadata": {},
   "source": [
    "# Practice with New Objects\n",
    "\n",
    "From the dictionary, produce a list of strings, where each element in the list is a last name.  Your code should work for an arbitrary dictionary formatted as given below."
   ]
  },
  {
   "cell_type": "code",
   "execution_count": 3,
   "metadata": {},
   "outputs": [
    {
     "data": {
      "text/plain": [
       "['Feldman', 'Zhang']"
      ]
     },
     "execution_count": 3,
     "metadata": {},
     "output_type": "execute_result"
    }
   ],
   "source": [
    "d = {1: \"Jake Feldman\", 2 : \"Dennis Zhang\"}\n",
    "#Write your code here\n",
    "l=[]\n",
    "for i in d.values():\n",
    "    name=i.split()\n",
    "    l.append(name[1])\n",
    "l"
   ]
  },
  {
   "cell_type": "markdown",
   "metadata": {},
   "source": [
    "Consider the following dictionary D of scores.  From this dictionary, produce another dictionary where the keys are the names and the values are the average scores."
   ]
  },
  {
   "cell_type": "code",
   "execution_count": 9,
   "metadata": {},
   "outputs": [
    {
     "data": {
      "text/plain": [
       "{'Jake': 88.5, 'Charlie': 99.66666666666667, 'Ellen': 90}"
      ]
     },
     "execution_count": 9,
     "metadata": {},
     "output_type": "execute_result"
    }
   ],
   "source": [
    "D = {\"Jake\" : [99,87,91, 77], \"Charlie\" : [100,100,99], \"Ellen\" : [95,70, 85,100,100]}\n",
    "from statistics import mean\n",
    "#Write your code here\n",
    "l=[]\n",
    "for i in D:\n",
    "    x=mean(D[i])\n",
    "    D[i]=x\n",
    "D"
   ]
  },
  {
   "cell_type": "markdown",
   "metadata": {},
   "source": [
    "Write Code to check whether the inputted sentence is a pangram, meaning that it contains all 26 letters.  A useful Python object will be sets.  Why?"
   ]
  },
  {
   "cell_type": "code",
   "execution_count": 10,
   "metadata": {},
   "outputs": [
    {
     "name": "stdout",
     "output_type": "stream",
     "text": [
      "Yes\n"
     ]
    }
   ],
   "source": [
    "\n",
    "#Write your code here\n",
    "import string \n",
    "def ispangram(str): \n",
    "    alphabet = \"abcdefghijklmnopqrstuvwxyz\"\n",
    "    for char in alphabet: \n",
    "        if char not in str.lower(): \n",
    "            return False\n",
    "  \n",
    "    return True\n",
    "sentence = \"the quick brown fox jumps over the lazy dog\"\n",
    "if(ispangram(sentence) == True): \n",
    "    print(\"Yes\") \n",
    "else: \n",
    "    print(\"No\")\n"
   ]
  },
  {
   "cell_type": "markdown",
   "metadata": {},
   "source": [
    "# Practice w/ String Methods\n",
    "\n",
    "Use the **count** method to count the number of times that str1 appears in str2."
   ]
  },
  {
   "cell_type": "code",
   "execution_count": 11,
   "metadata": {},
   "outputs": [
    {
     "name": "stdout",
     "output_type": "stream",
     "text": [
      "2\n"
     ]
    }
   ],
   "source": [
    "str1 = \"co\"\n",
    "str2 = \"coding in school is cool\"\n",
    "#Write your code here\n",
    "def countFreq(pat, txt): \n",
    "    M = len(pat) \n",
    "    N = len(txt) \n",
    "    res = 0\n",
    "    for i in range(N - M + 1): \n",
    "        j = 0\n",
    "        for j in range(M): \n",
    "            if (txt[i + j] != pat[j]): \n",
    "                break\n",
    "        if (j == M - 1): \n",
    "            res += 1\n",
    "            j = 0\n",
    "    return res \n",
    "str1 = \"coding is cool\"\n",
    "str2 = \"co\"\n",
    "print(countFreq(str2, str1))"
   ]
  },
  {
   "cell_type": "markdown",
   "metadata": {},
   "source": [
    "Count the number of words that start with a vowel (a,e,i,o,u) in the following sentences.  The code should work for any sentence. The **split**, **replace** and **lower** methods will be useful here."
   ]
  },
  {
   "cell_type": "code",
   "execution_count": 17,
   "metadata": {},
   "outputs": [
    {
     "name": "stdout",
     "output_type": "stream",
     "text": [
      "Total number of vowel and consonant are\n",
      "41\n",
      "54\n"
     ]
    }
   ],
   "source": [
    "sentence = \"\"\"Jake likes to eat apples. So, he went to the store to acquire some. \n",
    "He used his coupons and then he declared: I love apples.\"\"\"\n",
    "import string\n",
    "#Write your code here\n",
    "vcount = 0  \n",
    "ccount = 0\n",
    "str = sentence.lower();  \n",
    "for i in range(0,len(str)):   \n",
    "    if str[i] in ('a',\"e\",\"i\",\"o\",\"u\"):  \n",
    "        vcount = vcount + 1;  \n",
    "    elif (str[i] >= 'a' and str[i] <= 'z'):  \n",
    "        ccount = ccount + 1;  \n",
    "print(\"Total number of vowel and consonant are\" )\n",
    "print(vcount)  \n",
    "print(ccount)"
   ]
  },
  {
   "cell_type": "markdown",
   "metadata": {},
   "source": [
    "\n",
    "# Practice w/ List Methods\n",
    " \n",
    "Store all of the words with more than 5 letters in a list. Use the **append** method for lists and the **strip** method for strings to get rid of punctuation."
   ]
  },
  {
   "cell_type": "code",
   "execution_count": 20,
   "metadata": {},
   "outputs": [
    {
     "name": "stdout",
     "output_type": "stream",
     "text": [
      "['apples.', 'acquire', 'coupons', 'declared:', 'apples.']\n"
     ]
    }
   ],
   "source": [
    "\n",
    "\n",
    "#Write you code here\n",
    "def string_k(k, str): \n",
    "    string = [] \n",
    "    text = str.split(\" \")  \n",
    "    for x in text:  \n",
    "        if len(x) > k:\n",
    "            string.append(x) \n",
    "    return string \n",
    "k = 5\n",
    "sentence = \"Jake likes to eat apples. So, he went to the store to acquire some. He used his coupons and then he declared: I love apples.\"\n",
    "print(string_k(k, sentence)) "
   ]
  },
  {
   "cell_type": "markdown",
   "metadata": {},
   "source": [
    "From the list L, created a list of lists called Q, which slices around the number 4. For example, if  L = [1,2,3,4,5,6], then Q = [[1,2,3], [5,6]].  The code should work for general L with a single 4. Use the **index** and **append** methods. "
   ]
  },
  {
   "cell_type": "code",
   "execution_count": 39,
   "metadata": {},
   "outputs": [
    {
     "data": {
      "text/plain": [
       "[[1, 2, 3], [6, 5]]"
      ]
     },
     "execution_count": 39,
     "metadata": {},
     "output_type": "execute_result"
    }
   ],
   "source": [
    "L=[1,2,3,4,6,5]\n",
    "Q=[]\n",
    "\n",
    "#Write you code here\n",
    "temp=[]\n",
    "for i in L:\n",
    "    if(i != 4):\n",
    "        temp.append(i)\n",
    "    else:\n",
    "        Q.append(temp)\n",
    "        temp=[]\n",
    "Q.append(temp)\n",
    "Q"
   ]
  },
  {
   "cell_type": "code",
   "execution_count": null,
   "metadata": {},
   "outputs": [],
   "source": []
  },
  {
   "cell_type": "code",
   "execution_count": null,
   "metadata": {},
   "outputs": [],
   "source": []
  }
 ],
 "metadata": {
  "kernelspec": {
   "display_name": "Python 3",
   "language": "python",
   "name": "python3"
  },
  "language_info": {
   "codemirror_mode": {
    "name": "ipython",
    "version": 3
   },
   "file_extension": ".py",
   "mimetype": "text/x-python",
   "name": "python",
   "nbconvert_exporter": "python",
   "pygments_lexer": "ipython3",
   "version": "3.8.0"
  },
  "toc": {
   "base_numbering": 1,
   "nav_menu": {
    "height": "66px",
    "width": "252px"
   },
   "number_sections": true,
   "sideBar": true,
   "skip_h1_title": false,
   "title_cell": "Table of Contents",
   "title_sidebar": "Contents",
   "toc_cell": false,
   "toc_position": {},
   "toc_section_display": "block",
   "toc_window_display": false
  }
 },
 "nbformat": 4,
 "nbformat_minor": 2
}
